{
 "cells": [
  {
   "cell_type": "code",
   "execution_count": 12,
   "id": "91207104",
   "metadata": {
    "ExecuteTime": {
     "end_time": "2023-11-03T11:41:30.078914Z",
     "start_time": "2023-11-03T11:41:30.064111Z"
    }
   },
   "outputs": [],
   "source": [
    "import spotipy\n",
    "from spotipy.oauth2 import SpotifyClientCredentials\n",
    "import pandas as pd\n",
    "from sklearn.metrics.pairwise import cosine_similarity\n",
    "from sklearn.preprocessing import MinMaxScaler\n",
    "from sklearn.feature_extraction.text import TfidfVectorizer\n",
    "from textblob import TextBlob\n",
    "import re"
   ]
  },
  {
   "cell_type": "code",
   "execution_count": 13,
   "id": "85218b2a",
   "metadata": {
    "ExecuteTime": {
     "end_time": "2023-11-03T11:41:30.756750Z",
     "start_time": "2023-11-03T11:41:30.743989Z"
    }
   },
   "outputs": [],
   "source": [
    "with open(\"secret.txt\") as f:\n",
    "    secret_ls = f.readlines()\n",
    "    cid = secret_ls[0][:-2]\n",
    "    secret = secret_ls[1]"
   ]
  },
  {
   "cell_type": "code",
   "execution_count": 14,
   "id": "7244c26a",
   "metadata": {
    "ExecuteTime": {
     "end_time": "2023-11-03T11:41:39.495980Z",
     "start_time": "2023-11-03T11:41:39.487836Z"
    }
   },
   "outputs": [],
   "source": [
    "#Authentication - without user\n",
    "client_credentials_manager = SpotifyClientCredentials(client_id=cid, client_secret=secret)\n",
    "spotify = spotipy.Spotify(client_credentials_manager = client_credentials_manager)"
   ]
  },
  {
   "cell_type": "code",
   "execution_count": 15,
   "id": "d858a06c",
   "metadata": {
    "ExecuteTime": {
     "end_time": "2023-11-03T11:41:40.928278Z",
     "start_time": "2023-11-03T11:41:40.909246Z"
    }
   },
   "outputs": [],
   "source": [
    "# playlist_link = \"https://open.spotify.com/playlist/37i9dQZEVXbNG2KDcFcKOF?si=1333723a6eff4b7f\"\n",
    "# playlist_URI = playlist_link.split(\"/\")[-1].split(\"?\")[0]\n",
    "# track_uris = [x[\"track\"][\"uri\"] for x in sp.playlist_tracks(playlist_URI)[\"items\"]]"
   ]
  },
  {
   "cell_type": "markdown",
   "id": "4dcd85d2",
   "metadata": {},
   "source": [
    "## Exploring Spotipy"
   ]
  },
  {
   "cell_type": "code",
   "execution_count": 16,
   "id": "76cb6768",
   "metadata": {
    "ExecuteTime": {
     "end_time": "2023-11-03T11:41:41.584859Z",
     "start_time": "2023-11-03T11:41:41.569014Z"
    }
   },
   "outputs": [],
   "source": [
    "import spotipy\n",
    "from spotipy.oauth2 import SpotifyClientCredentials\n"
   ]
  },
  {
   "cell_type": "code",
   "execution_count": null,
   "id": "116bb1da",
   "metadata": {},
   "outputs": [],
   "source": []
  }
 ],
 "metadata": {
  "kernelspec": {
   "display_name": "Python 3",
   "language": "python",
   "name": "python3"
  },
  "language_info": {
   "codemirror_mode": {
    "name": "ipython",
    "version": 3
   },
   "file_extension": ".py",
   "mimetype": "text/x-python",
   "name": "python",
   "nbconvert_exporter": "python",
   "pygments_lexer": "ipython3",
   "version": "3.6.13"
  }
 },
 "nbformat": 4,
 "nbformat_minor": 5
}
