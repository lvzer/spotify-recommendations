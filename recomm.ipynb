{
 "cells": [
  {
   "cell_type": "code",
   "execution_count": 17,
   "id": "91207104",
   "metadata": {
    "ExecuteTime": {
     "end_time": "2023-11-03T11:41:30.078914Z",
     "start_time": "2023-11-03T11:41:30.064111Z"
    }
   },
   "outputs": [],
   "source": [
    "import spotipy\n",
    "from spotipy.oauth2 import SpotifyClientCredentials\n",
    "import pandas as pd\n",
    "from sklearn.metrics.pairwise import cosine_similarity\n",
    "from sklearn.preprocessing import MinMaxScaler\n",
    "from sklearn.feature_extraction.text import TfidfVectorizer\n",
    "from textblob import TextBlob\n",
    "import re"
   ]
  },
  {
   "cell_type": "code",
   "execution_count": 30,
   "id": "85218b2a",
   "metadata": {
    "ExecuteTime": {
     "end_time": "2023-11-03T11:55:38.768168Z",
     "start_time": "2023-11-03T11:55:38.749288Z"
    }
   },
   "outputs": [],
   "source": [
    "with open(\"secret.txt\") as f:\n",
    "    secret_ls = f.readlines()\n",
    "    cid = secret_ls[0][:-2]\n",
    "    secret = secret_ls[1]"
   ]
  },
  {
   "cell_type": "code",
   "execution_count": 31,
   "id": "7244c26a",
   "metadata": {
    "ExecuteTime": {
     "end_time": "2023-11-03T11:55:39.703690Z",
     "start_time": "2023-11-03T11:55:39.693883Z"
    }
   },
   "outputs": [],
   "source": [
    "#Authentication - without user\n",
    "client_credentials_manager = SpotifyClientCredentials(client_id=cid, client_secret=secret)\n",
    "spotify = spotipy.Spotify(client_credentials_manager = client_credentials_manager)"
   ]
  },
  {
   "cell_type": "code",
   "execution_count": 32,
   "id": "d858a06c",
   "metadata": {
    "ExecuteTime": {
     "end_time": "2023-11-03T11:55:40.914750Z",
     "start_time": "2023-11-03T11:55:40.907534Z"
    }
   },
   "outputs": [],
   "source": [
    "# playlist_link = \"https://open.spotify.com/playlist/37i9dQZEVXbNG2KDcFcKOF?si=1333723a6eff4b7f\"\n",
    "# playlist_URI = playlist_link.split(\"/\")[-1].split(\"?\")[0]\n",
    "# track_uris = [x[\"track\"][\"uri\"] for x in sp.playlist_tracks(playlist_URI)[\"items\"]]"
   ]
  },
  {
   "cell_type": "markdown",
   "id": "4dcd85d2",
   "metadata": {},
   "source": [
    "## Exploring Spotipy"
   ]
  },
  {
   "cell_type": "code",
   "execution_count": 33,
   "id": "76cb6768",
   "metadata": {
    "ExecuteTime": {
     "end_time": "2023-11-03T11:55:41.667732Z",
     "start_time": "2023-11-03T11:55:41.663167Z"
    }
   },
   "outputs": [],
   "source": [
    "import spotipy\n",
    "from spotipy.oauth2 import SpotifyClientCredentials"
   ]
  },
  {
   "cell_type": "code",
   "execution_count": 40,
   "id": "59a9c321",
   "metadata": {
    "ExecuteTime": {
     "end_time": "2023-11-03T11:58:35.913044Z",
     "start_time": "2023-11-03T11:58:35.899439Z"
    }
   },
   "outputs": [],
   "source": [
    "sp_oauth = spotipy.oauth2.SpotifyOAuth(client_id=cid, client_secret=secret, \n",
    "                                       redirect_uri='http://localhost:8888/callback')"
   ]
  },
  {
   "cell_type": "code",
   "execution_count": 41,
   "id": "116bb1da",
   "metadata": {
    "ExecuteTime": {
     "end_time": "2023-11-03T11:58:37.779514Z",
     "start_time": "2023-11-03T11:58:37.754700Z"
    }
   },
   "outputs": [
    {
     "ename": "SpotifyOauthError",
     "evalue": "No client_id. Pass it or set a SPOTIPY_CLIENT_ID environment variable.",
     "output_type": "error",
     "traceback": [
      "\u001b[0;31m---------------------------------------------------------------------------\u001b[0m",
      "\u001b[0;31mSpotifyOauthError\u001b[0m                         Traceback (most recent call last)",
      "\u001b[0;32m<ipython-input-41-737ddc088099>\u001b[0m in \u001b[0;36m<module>\u001b[0;34m\u001b[0m\n\u001b[1;32m      1\u001b[0m \u001b[0mbirdy_uri\u001b[0m \u001b[0;34m=\u001b[0m \u001b[0;34m'spotify:artist:2WX2uTcsvV5OnS0inACecP'\u001b[0m\u001b[0;34m\u001b[0m\u001b[0;34m\u001b[0m\u001b[0m\n\u001b[0;32m----> 2\u001b[0;31m \u001b[0mspotify\u001b[0m \u001b[0;34m=\u001b[0m \u001b[0mspotipy\u001b[0m\u001b[0;34m.\u001b[0m\u001b[0mSpotify\u001b[0m\u001b[0;34m(\u001b[0m\u001b[0mclient_credentials_manager\u001b[0m\u001b[0;34m=\u001b[0m\u001b[0mSpotifyClientCredentials\u001b[0m\u001b[0;34m(\u001b[0m\u001b[0;34m)\u001b[0m\u001b[0;34m)\u001b[0m\u001b[0;34m\u001b[0m\u001b[0;34m\u001b[0m\u001b[0m\n\u001b[0m\u001b[1;32m      3\u001b[0m \u001b[0;34m\u001b[0m\u001b[0m\n\u001b[1;32m      4\u001b[0m \u001b[0mresults\u001b[0m \u001b[0;34m=\u001b[0m \u001b[0mspotify\u001b[0m\u001b[0;34m.\u001b[0m\u001b[0martist_albums\u001b[0m\u001b[0;34m(\u001b[0m\u001b[0mbirdy_uri\u001b[0m\u001b[0;34m,\u001b[0m \u001b[0malbum_type\u001b[0m\u001b[0;34m=\u001b[0m\u001b[0;34m'album'\u001b[0m\u001b[0;34m)\u001b[0m\u001b[0;34m\u001b[0m\u001b[0;34m\u001b[0m\u001b[0m\n\u001b[1;32m      5\u001b[0m \u001b[0malbums\u001b[0m \u001b[0;34m=\u001b[0m \u001b[0mresults\u001b[0m\u001b[0;34m[\u001b[0m\u001b[0;34m'items'\u001b[0m\u001b[0;34m]\u001b[0m\u001b[0;34m\u001b[0m\u001b[0;34m\u001b[0m\u001b[0m\n",
      "\u001b[0;32m/opt/homebrew/Caskroom/miniconda/base/envs/dsai/lib/python3.6/site-packages/spotipy/oauth2.py\u001b[0m in \u001b[0;36m__init__\u001b[0;34m(self, client_id, client_secret, proxies, requests_session, requests_timeout, cache_handler)\u001b[0m\n\u001b[1;32m    199\u001b[0m         \u001b[0msuper\u001b[0m\u001b[0;34m(\u001b[0m\u001b[0mSpotifyClientCredentials\u001b[0m\u001b[0;34m,\u001b[0m \u001b[0mself\u001b[0m\u001b[0;34m)\u001b[0m\u001b[0;34m.\u001b[0m\u001b[0m__init__\u001b[0m\u001b[0;34m(\u001b[0m\u001b[0mrequests_session\u001b[0m\u001b[0;34m)\u001b[0m\u001b[0;34m\u001b[0m\u001b[0;34m\u001b[0m\u001b[0m\n\u001b[1;32m    200\u001b[0m \u001b[0;34m\u001b[0m\u001b[0m\n\u001b[0;32m--> 201\u001b[0;31m         \u001b[0mself\u001b[0m\u001b[0;34m.\u001b[0m\u001b[0mclient_id\u001b[0m \u001b[0;34m=\u001b[0m \u001b[0mclient_id\u001b[0m\u001b[0;34m\u001b[0m\u001b[0;34m\u001b[0m\u001b[0m\n\u001b[0m\u001b[1;32m    202\u001b[0m         \u001b[0mself\u001b[0m\u001b[0;34m.\u001b[0m\u001b[0mclient_secret\u001b[0m \u001b[0;34m=\u001b[0m \u001b[0mclient_secret\u001b[0m\u001b[0;34m\u001b[0m\u001b[0;34m\u001b[0m\u001b[0m\n\u001b[1;32m    203\u001b[0m         \u001b[0mself\u001b[0m\u001b[0;34m.\u001b[0m\u001b[0mproxies\u001b[0m \u001b[0;34m=\u001b[0m \u001b[0mproxies\u001b[0m\u001b[0;34m\u001b[0m\u001b[0;34m\u001b[0m\u001b[0m\n",
      "\u001b[0;32m/opt/homebrew/Caskroom/miniconda/base/envs/dsai/lib/python3.6/site-packages/spotipy/oauth2.py\u001b[0m in \u001b[0;36mclient_id\u001b[0;34m(self, val)\u001b[0m\n\u001b[1;32m     92\u001b[0m     \u001b[0;34m@\u001b[0m\u001b[0mclient_id\u001b[0m\u001b[0;34m.\u001b[0m\u001b[0msetter\u001b[0m\u001b[0;34m\u001b[0m\u001b[0;34m\u001b[0m\u001b[0m\n\u001b[1;32m     93\u001b[0m     \u001b[0;32mdef\u001b[0m \u001b[0mclient_id\u001b[0m\u001b[0;34m(\u001b[0m\u001b[0mself\u001b[0m\u001b[0;34m,\u001b[0m \u001b[0mval\u001b[0m\u001b[0;34m)\u001b[0m\u001b[0;34m:\u001b[0m\u001b[0;34m\u001b[0m\u001b[0;34m\u001b[0m\u001b[0m\n\u001b[0;32m---> 94\u001b[0;31m         \u001b[0mself\u001b[0m\u001b[0;34m.\u001b[0m\u001b[0m_client_id\u001b[0m \u001b[0;34m=\u001b[0m \u001b[0m_ensure_value\u001b[0m\u001b[0;34m(\u001b[0m\u001b[0mval\u001b[0m\u001b[0;34m,\u001b[0m \u001b[0;34m\"client_id\"\u001b[0m\u001b[0;34m)\u001b[0m\u001b[0;34m\u001b[0m\u001b[0;34m\u001b[0m\u001b[0m\n\u001b[0m\u001b[1;32m     95\u001b[0m \u001b[0;34m\u001b[0m\u001b[0m\n\u001b[1;32m     96\u001b[0m     \u001b[0;34m@\u001b[0m\u001b[0mproperty\u001b[0m\u001b[0;34m\u001b[0m\u001b[0;34m\u001b[0m\u001b[0m\n",
      "\u001b[0;32m/opt/homebrew/Caskroom/miniconda/base/envs/dsai/lib/python3.6/site-packages/spotipy/oauth2.py\u001b[0m in \u001b[0;36m_ensure_value\u001b[0;34m(value, env_key)\u001b[0m\n\u001b[1;32m     68\u001b[0m             \u001b[0menv_val\u001b[0m\u001b[0;34m,\u001b[0m\u001b[0;34m\u001b[0m\u001b[0;34m\u001b[0m\u001b[0m\n\u001b[1;32m     69\u001b[0m         )\n\u001b[0;32m---> 70\u001b[0;31m         \u001b[0;32mraise\u001b[0m \u001b[0mSpotifyOauthError\u001b[0m\u001b[0;34m(\u001b[0m\u001b[0mmsg\u001b[0m\u001b[0;34m)\u001b[0m\u001b[0;34m\u001b[0m\u001b[0;34m\u001b[0m\u001b[0m\n\u001b[0m\u001b[1;32m     71\u001b[0m     \u001b[0;32mreturn\u001b[0m \u001b[0m_val\u001b[0m\u001b[0;34m\u001b[0m\u001b[0;34m\u001b[0m\u001b[0m\n\u001b[1;32m     72\u001b[0m \u001b[0;34m\u001b[0m\u001b[0m\n",
      "\u001b[0;31mSpotifyOauthError\u001b[0m: No client_id. Pass it or set a SPOTIPY_CLIENT_ID environment variable."
     ]
    }
   ],
   "source": [
    "birdy_uri = 'spotify:artist:2WX2uTcsvV5OnS0inACecP'\n",
    "spotify = spotipy.Spotify(client_credentials_manager=SpotifyClientCredentials())\n",
    "\n",
    "results = spotify.artist_albums(birdy_uri, album_type='album')\n",
    "albums = results['items']\n",
    "while results['next']:\n",
    "    results = spotify.next(results)\n",
    "    albums.extend(results['items'])\n",
    "\n",
    "for album in albums:\n",
    "    print(album['name'])"
   ]
  },
  {
   "cell_type": "code",
   "execution_count": null,
   "id": "db6be7fc",
   "metadata": {},
   "outputs": [],
   "source": []
  }
 ],
 "metadata": {
  "kernelspec": {
   "display_name": "Python 3",
   "language": "python",
   "name": "python3"
  }
 },
 "nbformat": 4,
 "nbformat_minor": 5
}
